{
 "cells": [
  {
   "cell_type": "code",
   "execution_count": 50,
   "metadata": {},
   "outputs": [],
   "source": [
    "# Importar librerias y lenguajes\n",
    "import spacy \n",
    "from spacy.tokens import Token, Span\n",
    "# nlp = spacy.blank(\"es\") # crea un pipeline vacio para procesar el espanol.\n",
    "nlp = spacy.load(\"es_core_news_sm\") # Descarga el paquete del lenguaje espanol preentrenado para poder trabajar con las capacidades centrales.\n"
   ]
  },
  {
   "cell_type": "code",
   "execution_count": 51,
   "metadata": {},
   "outputs": [
    {
     "name": "stdout",
     "output_type": "stream",
     "text": [
      "Arroz\n",
      "con\n",
      "leche\n",
      ",\n",
      "me\n",
      "quiero\n",
      "casar\n",
      "Con\n",
      "uno\n",
      "señora\n",
      "de\n",
      "San\n",
      "Nicolás\n",
      "Que\n",
      "sepa\n",
      "cocer\n",
      ",\n",
      "que\n",
      "sepa\n",
      "bordar\n",
      "Que\n",
      "sepa\n",
      "abrir\n",
      "la\n",
      "puerta\n",
      "para\n",
      "ir\n",
      "a\n",
      "jugar\n",
      "Yo\n",
      "soy\n",
      "la\n",
      "viudita\n",
      "del\n",
      "barrio\n",
      "del\n",
      "rey\n",
      "Me\n",
      "quiero\n",
      "casar\n",
      "y\n",
      "no\n",
      "sé\n",
      "con\n",
      "quién\n",
      "Con\n",
      "esta\n",
      "sí\n",
      ",\n",
      "con\n",
      "esta\n",
      "no\n",
      "Con\n",
      "esta\n",
      "señorita\n",
      "me\n",
      "caso\n",
      "yo\n",
      "Arroz\n",
      "con\n",
      "leche\n",
      ",\n",
      "me\n",
      "quiero\n",
      "casar\n",
      "Con\n",
      "una\n",
      "señorita\n",
      "de\n",
      "San\n",
      "Nicolás\n",
      "Que\n",
      "sepa\n",
      "cocer\n",
      ",\n",
      "que\n",
      "sepa\n",
      "bordar\n",
      "Que\n",
      "sepa\n",
      "abrir\n",
      "la\n",
      "puerta\n",
      "para\n",
      "ir\n",
      "a\n",
      "jugar\n",
      "Yo\n",
      "soy\n",
      "la\n",
      "viudita\n",
      "del\n",
      "barrio\n",
      "del\n",
      "rey\n",
      "Me\n",
      "quiero\n",
      "casar\n",
      "y\n",
      "no\n",
      "sé\n",
      "con\n",
      "quién\n",
      "Con\n",
      "esta\n",
      "sí\n",
      ",\n",
      "con\n",
      "esta\n",
      "no\n",
      "Con\n",
      "esta\n",
      "señorita\n",
      "me\n",
      "caso\n",
      "yo\n"
     ]
    }
   ],
   "source": [
    "# Crear el texto, en un objeto llamado \"doc\".\n",
    "doc = nlp(\"Arroz con leche, me quiero casar\"\n",
    "        \" Con uno señora de San Nicolás\"\n",
    "        \" Que sepa cocer, que sepa bordar\"\n",
    "        \" Que sepa abrir la puerta para ir a jugar\"\n",
    "        \" Yo soy la viudita del barrio del rey\"\n",
    "        \" Me quiero casar y no sé con quién\"\n",
    "        \" Con esta sí, con esta no\"\n",
    "        \" Con esta señorita me caso yo\"\n",
    "        \" Arroz con leche, me quiero casar\"\n",
    "        \" Con una señorita de San Nicolás\"\n",
    "        \" Que sepa cocer, que sepa bordar\"\n",
    "        \" Que sepa abrir la puerta para ir a jugar\"\n",
    "        \" Yo soy la viudita del barrio del rey\"\n",
    "        \" Me quiero casar y no sé con quién\"\n",
    "        \" Con esta sí, con esta no\"\n",
    "        \" Con esta señorita me caso yo\")\n",
    "\n",
    "# Iterar sobre los tokens en el doc. Spacy transforma cada palabra, signo, puntuacion del doc en un token.\n",
    "for token in doc:\n",
    "    print(token.text)"
   ]
  },
  {
   "cell_type": "code",
   "execution_count": 52,
   "metadata": {},
   "outputs": [
    {
     "name": "stdout",
     "output_type": "stream",
     "text": [
      "quiero\n",
      "---------------------\n",
      "me quiero casar Con uno señora de San Nicolás\n",
      "---------------------\n",
      "Índice:    [0, 1, 2, 3, 4, 5, 6, 7, 8, 9]\n",
      "---------------------\n",
      "is_alpha: [True, True, True, False, True, True, True, True, True, True]\n",
      "is_punct: [False, False, False, True, False, False, False, False, False, False]\n",
      "like_num: [False, False, False, False, False, False, False, False, True, False]\n"
     ]
    }
   ],
   "source": [
    "# El objeto doc tiene su propio indice para el acceso directo.\n",
    "token = doc[5]\n",
    "print(token.text) # la funcion .text devuelve el texto.\n",
    "print(\"---------------------\")\n",
    "# Un objeto SPAN es un slice del doc, compuesto por 1 o mas tokens. Es un view, no contiene los datos en si.\n",
    "span = doc[4:13]\n",
    "print(span)\n",
    "print(\"---------------------\")\n",
    "print(\"Índice:   \", [token.i for token in doc[0:10]])\n",
    "print(\"---------------------\")\n",
    "# Reconocimiento de numeros, puntuaciones y palabras alfabeticas (llamados tambien atributos lexicos, no dependen del contexto):\n",
    "print(\"is_alpha:\", [token.is_alpha for token in doc[0:10]])\n",
    "print(\"is_punct:\", [token.is_punct for token in doc[0:10]])\n",
    "print(\"like_num:\", [token.like_num for token in doc[0:10]])"
   ]
  },
  {
   "cell_type": "code",
   "execution_count": 53,
   "metadata": {},
   "outputs": [],
   "source": [
    "# Itera sobre los tokens en el doc\n",
    "for token in doc:\n",
    "    # Revisa si el token parece un número\n",
    "    if token.like_num:\n",
    "        # Obtén el próximo token en el documento\n",
    "        next_token = doc[token.i + 1]\n",
    "        # Revisa si el texto del siguiente token es igual a '%'\n",
    "        if next_token.text == \"señorita\":\n",
    "            print(\"Token encontrado:\", (token.text))"
   ]
  },
  {
   "cell_type": "code",
   "execution_count": 55,
   "metadata": {},
   "outputs": [
    {
     "name": "stdout",
     "output_type": "stream",
     "text": [
      "Arroz PROPN\n",
      "con ADP\n",
      "leche NOUN\n",
      ", PUNCT\n",
      "me PRON\n",
      "quiero VERB\n",
      "casar VERB\n",
      "Con ADP\n",
      "uno NUM\n",
      "señora NOUN\n"
     ]
    }
   ],
   "source": [
    "# Componentes del pipeline entrenados.\n",
    "\n",
    "# Parser (Etiquetas gramaticales)\n",
    "for token in doc[0:10]:\n",
    "    # Imprime en pantalla el texto y la etiqueta gramatical predicha\n",
    "    print(token.text, token.pos_) # En spaCy, los atributos que devuelven un string normalmente terminan con un guion bajo (_). \n",
    "                                  # Mientras que atributos sin un guion bajo devuelven un valor ID de tipo entero."
   ]
  },
  {
   "cell_type": "code",
   "execution_count": 56,
   "metadata": {},
   "outputs": [
    {
     "name": "stdout",
     "output_type": "stream",
     "text": [
      "Arroz ROOT Arroz\n",
      "con case leche\n",
      "leche nmod Arroz\n",
      ", punct Arroz\n",
      "me iobj quiero\n",
      "quiero ROOT quiero\n",
      "casar xcomp quiero\n",
      "Con case señora\n",
      "uno det señora\n",
      "señora obl casar\n"
     ]
    }
   ],
   "source": [
    "# Tagger (Relaciones entre las palabras)\n",
    "for token in doc[0:10]:\n",
    "    print(token.text, token.dep_, token.head.text) # El atributo .dep_ devuelve la etiqueta de la dependencia sintáctica predicha.\n",
    "                                                               # El atributo .head devuelve el token de la cabeza de la dependencia sintáctica."
   ]
  },
  {
   "cell_type": "code",
   "execution_count": 60,
   "metadata": {},
   "outputs": [
    {
     "name": "stdout",
     "output_type": "stream",
     "text": [
      "Con uno señora de San Nicolás Que sepa cocer MISC\n",
      "Con esta sí MISC\n",
      "Con esta señorita me caso yo Arroz MISC\n",
      "Con una señorita de San Nicolás Que sepa cocer MISC\n",
      "Con esta sí MISC\n",
      "Con esta señorita me caso yo MISC\n"
     ]
    },
    {
     "data": {
      "text/plain": [
       "'Miscellaneous entities, e.g. events, nationalities, products or works of art'"
      ]
     },
     "execution_count": 60,
     "metadata": {},
     "output_type": "execute_result"
    }
   ],
   "source": [
    "#Entity recognizer (entidades nombradas: objetos de la vida real que tienen un nombre asignado)\n",
    "\n",
    "for ent in doc.ents:\n",
    "    # Imprime en pantalla el texto y la etiqueta de la entidad\n",
    "    print(ent.text, ent.label_) # La propiedad doc.ents te permite acceder a las entidades nombradas predichas por el modelo de reconocimiento de entidades.\n",
    "                                # La propiedad doc.ents devuelve un iterador de objetos Span, \n",
    "                                # así que podemos imprimir en pantalla el texto y la etiqueta de la entidad usando el atributo .label_.\n",
    "\n",
    "spacy.explain(\"MISC\") # Explica las definiciones de las etiquetas.\n",
    "# Mal resultado."
   ]
  },
  {
   "cell_type": "code",
   "execution_count": null,
   "metadata": {},
   "outputs": [],
   "source": []
  }
 ],
 "metadata": {
  "kernelspec": {
   "display_name": "openvino_env",
   "language": "python",
   "name": "python3"
  },
  "language_info": {
   "codemirror_mode": {
    "name": "ipython",
    "version": 3
   },
   "file_extension": ".py",
   "mimetype": "text/x-python",
   "name": "python",
   "nbconvert_exporter": "python",
   "pygments_lexer": "ipython3",
   "version": "3.9.13"
  },
  "orig_nbformat": 4
 },
 "nbformat": 4,
 "nbformat_minor": 2
}
