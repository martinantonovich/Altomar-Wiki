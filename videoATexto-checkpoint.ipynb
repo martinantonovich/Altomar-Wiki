{
 "cells": [
  {
   "cell_type": "code",
   "execution_count": 1,
   "metadata": {},
   "outputs": [
    {
     "name": "stdout",
     "output_type": "stream",
     "text": [
      "MoviePy - Writing audio in transformado_a.mp3\n"
     ]
    },
    {
     "name": "stderr",
     "output_type": "stream",
     "text": [
      "                                                                          "
     ]
    },
    {
     "name": "stdout",
     "output_type": "stream",
     "text": [
      "MoviePy - Done.\n"
     ]
    },
    {
     "name": "stderr",
     "output_type": "stream",
     "text": [
      "\r"
     ]
    }
   ],
   "source": [
    "import moviepy.editor as mp\n",
    "\n",
    "name = \"D:\\Grupo 1 (CABA Cambiemos 25-40 Medio-Medio).mp4\"\n",
    "\n",
    "#Cargamos el fichero .mp4\n",
    "clip = mp.VideoFileClip(name)\n",
    "\n",
    "#Lo escribimos como audio y `.mp3`\n",
    "clip.audio.write_audiofile(\"transformado_a.mp3\")\n"
   ]
  },
  {
   "cell_type": "code",
   "execution_count": 3,
   "metadata": {},
   "outputs": [
    {
     "ename": "ModuleNotFoundError",
     "evalue": "No module named 'pydub'",
     "output_type": "error",
     "traceback": [
      "\u001b[1;31m---------------------------------------------------------------------------\u001b[0m",
      "\u001b[1;31mModuleNotFoundError\u001b[0m                       Traceback (most recent call last)",
      "Cell \u001b[1;32mIn[3], line 1\u001b[0m\n\u001b[1;32m----> 1\u001b[0m \u001b[38;5;28;01mfrom\u001b[39;00m \u001b[38;5;21;01mpydub\u001b[39;00m \u001b[38;5;28;01mimport\u001b[39;00m AudioSegment\n\u001b[0;32m      2\u001b[0m \u001b[38;5;28;01mfrom\u001b[39;00m \u001b[38;5;21;01mpydub\u001b[39;00m\u001b[38;5;21;01m.\u001b[39;00m\u001b[38;5;21;01mutils\u001b[39;00m \u001b[38;5;28;01mimport\u001b[39;00m make_chunks\n\u001b[0;32m      4\u001b[0m \u001b[38;5;66;03m## bluesfile 30s\u001b[39;00m\n",
      "\u001b[1;31mModuleNotFoundError\u001b[0m: No module named 'pydub'"
     ]
    }
   ],
   "source": [
    "from pydub import AudioSegment\n",
    "from pydub.utils import make_chunks\n",
    "\n",
    "## bluesfile 30s\n",
    "audio = AudioSegment.from_file(\"../transformado_a.mp3\", \"mp3\")\n",
    "\n",
    "size = 10000 ## Los milisegundos de corte\n",
    "\n",
    "chunks = make_chunks (audio, size) ## Corta el archivo en trozos de 10 segundos\n",
    "\n",
    "for i, chunk in enumerate(chunks):\n",
    "         ## Enumeración, i es el índice, chunk es el archivo cortado\n",
    "    chunk_name = \"bulues{0}.wav\".format(i)\n",
    "    print(chunk_name)\n",
    "         ## guardar documento\n",
    "    chunk.export(chunk_name, format=\"mp3\")"
   ]
  },
  {
   "cell_type": "code",
   "execution_count": null,
   "metadata": {},
   "outputs": [],
   "source": []
  }
 ],
 "metadata": {
  "kernelspec": {
   "display_name": "encuestas_env",
   "language": "python",
   "name": "encuestas_env"
  },
  "language_info": {
   "codemirror_mode": {
    "name": "ipython",
    "version": 3
   },
   "file_extension": ".py",
   "mimetype": "text/x-python",
   "name": "python",
   "nbconvert_exporter": "python",
   "pygments_lexer": "ipython3",
   "version": "3.9.13"
  }
 },
 "nbformat": 4,
 "nbformat_minor": 4
}
